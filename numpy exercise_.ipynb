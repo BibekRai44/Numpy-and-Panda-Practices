{
 "cells": [
  {
   "cell_type": "markdown",
   "id": "c02061f7",
   "metadata": {},
   "source": [
    "# Numpy Basic Exercise"
   ]
  },
  {
   "cell_type": "code",
   "execution_count": 1,
   "id": "2ab01c77",
   "metadata": {},
   "outputs": [],
   "source": [
    "import numpy as np"
   ]
  },
  {
   "cell_type": "markdown",
   "id": "7bdb6d78",
   "metadata": {},
   "source": [
    "**EXERCISE 1 - Element-wise addition of 2 numpy arrays\n",
    "Given are 2 similar dimensional numpy arrays, how to get a numpy array output in which every element is an element-wise sum of the 2 numpy arrays?**"
   ]
  },
  {
   "cell_type": "code",
   "execution_count": 2,
   "id": "d90b854f",
   "metadata": {},
   "outputs": [],
   "source": [
    "arr1=np.array([[1,2,3],[4,5,6]])"
   ]
  },
  {
   "cell_type": "code",
   "execution_count": 3,
   "id": "eda93735",
   "metadata": {},
   "outputs": [],
   "source": [
    "arr2=np.array([[2,3,1],[4,5,2]])"
   ]
  },
  {
   "cell_type": "code",
   "execution_count": 4,
   "id": "b27aa1bd",
   "metadata": {},
   "outputs": [],
   "source": [
    "arr3=arr1 + arr2"
   ]
  },
  {
   "cell_type": "code",
   "execution_count": 5,
   "id": "380a9a1e",
   "metadata": {},
   "outputs": [
    {
     "data": {
      "text/plain": [
       "array([[ 3,  5,  4],\n",
       "       [ 8, 10,  8]])"
      ]
     },
     "execution_count": 5,
     "metadata": {},
     "output_type": "execute_result"
    }
   ],
   "source": [
    "arr3"
   ]
  },
  {
   "cell_type": "markdown",
   "id": "c40360c8",
   "metadata": {},
   "source": [
    "**EXERCISE 2 - Multiplying a matrix (numpy array) by a scalar\n",
    "Given a numpy array (matrix), how to get a numpy array output which is equal to the original matrix multiplied by a scalar?**"
   ]
  },
  {
   "cell_type": "code",
   "execution_count": 6,
   "id": "20fbae49",
   "metadata": {},
   "outputs": [],
   "source": [
    "init_array=np.array([[1,2,3],[4,5,6]])"
   ]
  },
  {
   "cell_type": "code",
   "execution_count": 7,
   "id": "859f2b95",
   "metadata": {},
   "outputs": [],
   "source": [
    "result=init_array * 2 #multiplying by 2 since it is a scalar number"
   ]
  },
  {
   "cell_type": "code",
   "execution_count": 8,
   "id": "b2b54b3a",
   "metadata": {},
   "outputs": [
    {
     "data": {
      "text/plain": [
       "array([[ 2,  4,  6],\n",
       "       [ 8, 10, 12]])"
      ]
     },
     "execution_count": 8,
     "metadata": {},
     "output_type": "execute_result"
    }
   ],
   "source": [
    "result"
   ]
  },
  {
   "cell_type": "markdown",
   "id": "21b1acf0",
   "metadata": {},
   "source": [
    "**EXERCISE 3 - Identity Matrix\n",
    "Create an identity matrix of dimension 4-by-4**"
   ]
  },
  {
   "cell_type": "code",
   "execution_count": 9,
   "id": "15053559",
   "metadata": {},
   "outputs": [],
   "source": [
    "i=np.eye(4)"
   ]
  },
  {
   "cell_type": "code",
   "execution_count": 10,
   "id": "5022fd3f",
   "metadata": {},
   "outputs": [
    {
     "data": {
      "text/plain": [
       "array([[1., 0., 0., 0.],\n",
       "       [0., 1., 0., 0.],\n",
       "       [0., 0., 1., 0.],\n",
       "       [0., 0., 0., 1.]])"
      ]
     },
     "execution_count": 10,
     "metadata": {},
     "output_type": "execute_result"
    }
   ],
   "source": [
    "i #eye(numbersize to make identity matrix)"
   ]
  },
  {
   "cell_type": "markdown",
   "id": "3fc0a62c",
   "metadata": {},
   "source": [
    "**EXERCISE 4 - Array re-dimensioning\n",
    "Convert a 1-D array to a 3-D array**"
   ]
  },
  {
   "cell_type": "code",
   "execution_count": 11,
   "id": "52d8a379",
   "metadata": {},
   "outputs": [],
   "source": [
    "new_arr=np.arange(99)"
   ]
  },
  {
   "cell_type": "code",
   "execution_count": 12,
   "id": "ea333d27",
   "metadata": {},
   "outputs": [
    {
     "data": {
      "text/plain": [
       "array([ 0,  1,  2,  3,  4,  5,  6,  7,  8,  9, 10, 11, 12, 13, 14, 15, 16,\n",
       "       17, 18, 19, 20, 21, 22, 23, 24, 25, 26, 27, 28, 29, 30, 31, 32, 33,\n",
       "       34, 35, 36, 37, 38, 39, 40, 41, 42, 43, 44, 45, 46, 47, 48, 49, 50,\n",
       "       51, 52, 53, 54, 55, 56, 57, 58, 59, 60, 61, 62, 63, 64, 65, 66, 67,\n",
       "       68, 69, 70, 71, 72, 73, 74, 75, 76, 77, 78, 79, 80, 81, 82, 83, 84,\n",
       "       85, 86, 87, 88, 89, 90, 91, 92, 93, 94, 95, 96, 97, 98])"
      ]
     },
     "execution_count": 12,
     "metadata": {},
     "output_type": "execute_result"
    }
   ],
   "source": [
    "new_arr"
   ]
  },
  {
   "cell_type": "code",
   "execution_count": 13,
   "id": "28cd829a",
   "metadata": {},
   "outputs": [
    {
     "data": {
      "text/plain": [
       "array([[ 0,  1,  2,  3,  4,  5,  6,  7,  8,  9, 10, 11, 12, 13, 14, 15,\n",
       "        16, 17, 18, 19, 20, 21, 22, 23, 24, 25, 26, 27, 28, 29, 30, 31,\n",
       "        32],\n",
       "       [33, 34, 35, 36, 37, 38, 39, 40, 41, 42, 43, 44, 45, 46, 47, 48,\n",
       "        49, 50, 51, 52, 53, 54, 55, 56, 57, 58, 59, 60, 61, 62, 63, 64,\n",
       "        65],\n",
       "       [66, 67, 68, 69, 70, 71, 72, 73, 74, 75, 76, 77, 78, 79, 80, 81,\n",
       "        82, 83, 84, 85, 86, 87, 88, 89, 90, 91, 92, 93, 94, 95, 96, 97,\n",
       "        98]])"
      ]
     },
     "execution_count": 13,
     "metadata": {},
     "output_type": "execute_result"
    }
   ],
   "source": [
    "new_arr.reshape(3,33)"
   ]
  },
  {
   "cell_type": "markdown",
   "id": "333bef96",
   "metadata": {},
   "source": [
    "**EXERCISE 5 - Array datatype conversion\n",
    "Convert all the elements of a numpy array from float to integer datatype**"
   ]
  },
  {
   "cell_type": "code",
   "execution_count": 14,
   "id": "60865835",
   "metadata": {},
   "outputs": [],
   "source": [
    "test_arr=np.array([[2.0,4.2,5.3],[5.6,8.5,65.4]])"
   ]
  },
  {
   "cell_type": "code",
   "execution_count": 15,
   "id": "519509fe",
   "metadata": {},
   "outputs": [],
   "source": [
    "o=test_arr.astype('int')"
   ]
  },
  {
   "cell_type": "code",
   "execution_count": 16,
   "id": "dd2ebab1",
   "metadata": {},
   "outputs": [
    {
     "data": {
      "text/plain": [
       "array([[ 2,  4,  5],\n",
       "       [ 5,  8, 65]])"
      ]
     },
     "execution_count": 16,
     "metadata": {},
     "output_type": "execute_result"
    }
   ],
   "source": [
    "o"
   ]
  },
  {
   "cell_type": "markdown",
   "id": "4fbf2959",
   "metadata": {},
   "source": [
    "**EXERCISE 6 - Obtaining Boolean Array from Binary Array\n",
    "Convert a binary numpy array (containing only 0s and 1s) to a boolean numpy array**"
   ]
  },
  {
   "cell_type": "code",
   "execution_count": 17,
   "id": "c2803ff9",
   "metadata": {},
   "outputs": [
    {
     "data": {
      "text/plain": [
       "array([[ 2. ,  4.2,  5.3],\n",
       "       [ 5.6,  8.5, 65.4]])"
      ]
     },
     "execution_count": 17,
     "metadata": {},
     "output_type": "execute_result"
    }
   ],
   "source": [
    "test_arr"
   ]
  },
  {
   "cell_type": "code",
   "execution_count": 18,
   "id": "8350d1dd",
   "metadata": {},
   "outputs": [],
   "source": [
    "p=test_arr.astype('bool')"
   ]
  },
  {
   "cell_type": "code",
   "execution_count": 19,
   "id": "1d833ae0",
   "metadata": {},
   "outputs": [
    {
     "data": {
      "text/plain": [
       "array([[ True,  True,  True],\n",
       "       [ True,  True,  True]])"
      ]
     },
     "execution_count": 19,
     "metadata": {},
     "output_type": "execute_result"
    }
   ],
   "source": [
    "p"
   ]
  },
  {
   "cell_type": "markdown",
   "id": "d1854410",
   "metadata": {},
   "source": [
    "**EXERCISE 7 - Horizontal Stacking of Numpy Arrays\n",
    "Stack 2 numpy arrays horizontally i.e., 2 arrays having the same 1st dimension (number of rows in 2D arrays)**"
   ]
  },
  {
   "cell_type": "code",
   "execution_count": 20,
   "id": "7a505498",
   "metadata": {},
   "outputs": [
    {
     "data": {
      "text/plain": [
       "array([[1, 2, 3],\n",
       "       [4, 5, 6]])"
      ]
     },
     "execution_count": 20,
     "metadata": {},
     "output_type": "execute_result"
    }
   ],
   "source": [
    "arr1"
   ]
  },
  {
   "cell_type": "code",
   "execution_count": 21,
   "id": "598dfd6c",
   "metadata": {},
   "outputs": [
    {
     "data": {
      "text/plain": [
       "array([[2, 3, 1],\n",
       "       [4, 5, 2]])"
      ]
     },
     "execution_count": 21,
     "metadata": {},
     "output_type": "execute_result"
    }
   ],
   "source": [
    "arr2"
   ]
  },
  {
   "cell_type": "code",
   "execution_count": 22,
   "id": "a6edcf57",
   "metadata": {},
   "outputs": [],
   "source": [
    "q=np.hstack((arr1,arr2))"
   ]
  },
  {
   "cell_type": "code",
   "execution_count": 23,
   "id": "3228bfa0",
   "metadata": {},
   "outputs": [
    {
     "data": {
      "text/plain": [
       "array([[1, 2, 3, 2, 3, 1],\n",
       "       [4, 5, 6, 4, 5, 2]])"
      ]
     },
     "execution_count": 23,
     "metadata": {},
     "output_type": "execute_result"
    }
   ],
   "source": [
    "q"
   ]
  },
  {
   "cell_type": "markdown",
   "id": "3746ca11",
   "metadata": {},
   "source": [
    "**EXERCISE 8 - Vertically Stacking of Numpy Arrays\n",
    "Stack 2 numpy arrays vertically i.e., 2 arrays having the same last dimension (number of columns in 2D arrays)**"
   ]
  },
  {
   "cell_type": "code",
   "execution_count": 24,
   "id": "2e25754a",
   "metadata": {},
   "outputs": [
    {
     "data": {
      "text/plain": [
       "array([[1, 2, 3],\n",
       "       [4, 5, 6]])"
      ]
     },
     "execution_count": 24,
     "metadata": {},
     "output_type": "execute_result"
    }
   ],
   "source": [
    "arr1"
   ]
  },
  {
   "cell_type": "code",
   "execution_count": 25,
   "id": "a57bc2e6",
   "metadata": {},
   "outputs": [
    {
     "data": {
      "text/plain": [
       "array([[2, 3, 1],\n",
       "       [4, 5, 2]])"
      ]
     },
     "execution_count": 25,
     "metadata": {},
     "output_type": "execute_result"
    }
   ],
   "source": [
    "arr2"
   ]
  },
  {
   "cell_type": "code",
   "execution_count": 26,
   "id": "1317ad9e",
   "metadata": {},
   "outputs": [],
   "source": [
    "r=np.vstack((arr1,arr2))"
   ]
  },
  {
   "cell_type": "code",
   "execution_count": 27,
   "id": "0693eb0a",
   "metadata": {},
   "outputs": [
    {
     "data": {
      "text/plain": [
       "array([[1, 2, 3],\n",
       "       [4, 5, 6],\n",
       "       [2, 3, 1],\n",
       "       [4, 5, 2]])"
      ]
     },
     "execution_count": 27,
     "metadata": {},
     "output_type": "execute_result"
    }
   ],
   "source": [
    "r"
   ]
  },
  {
   "cell_type": "markdown",
   "id": "203bfbcb",
   "metadata": {},
   "source": [
    "**EXERCISE 9 - Custom Sequence Generation\n",
    "Generate a sequence of numbers in the form of a numpy array from 0 to 100 with gaps of 2 numbers, for example: 0, 2, 4 ....**"
   ]
  },
  {
   "cell_type": "code",
   "execution_count": 28,
   "id": "2c8e763c",
   "metadata": {},
   "outputs": [
    {
     "data": {
      "text/plain": [
       "array([ 0,  2,  4,  6,  8, 10, 12, 14, 16, 18, 20, 22, 24, 26, 28, 30, 32,\n",
       "       34, 36, 38, 40, 42, 44, 46, 48, 50, 52, 54, 56, 58, 60, 62, 64, 66,\n",
       "       68, 70, 72, 74, 76, 78, 80, 82, 84, 86, 88, 90, 92, 94, 96, 98])"
      ]
     },
     "execution_count": 28,
     "metadata": {},
     "output_type": "execute_result"
    }
   ],
   "source": [
    "np.arange(0,99,2)"
   ]
  },
  {
   "cell_type": "markdown",
   "id": "628e3e27",
   "metadata": {},
   "source": [
    "**EXERCISE 10 - Getting the positions (indexes) where elements of 2 numpy arrays match\n",
    "From 2 numpy arrays, extract the indexes in which the elements in the 2 arrays match**"
   ]
  },
  {
   "cell_type": "code",
   "execution_count": 29,
   "id": "529b2138",
   "metadata": {},
   "outputs": [
    {
     "data": {
      "text/plain": [
       "array([[1, 2, 3],\n",
       "       [4, 5, 6]])"
      ]
     },
     "execution_count": 29,
     "metadata": {},
     "output_type": "execute_result"
    }
   ],
   "source": [
    "arr1"
   ]
  },
  {
   "cell_type": "code",
   "execution_count": 30,
   "id": "b6646ed8",
   "metadata": {},
   "outputs": [
    {
     "data": {
      "text/plain": [
       "array([[2, 3, 1],\n",
       "       [4, 5, 2]])"
      ]
     },
     "execution_count": 30,
     "metadata": {},
     "output_type": "execute_result"
    }
   ],
   "source": [
    "arr2"
   ]
  },
  {
   "cell_type": "code",
   "execution_count": 31,
   "id": "aef0d7af",
   "metadata": {},
   "outputs": [],
   "source": [
    "s=np.where(arr1==arr2)"
   ]
  },
  {
   "cell_type": "code",
   "execution_count": 32,
   "id": "e42dcd96",
   "metadata": {},
   "outputs": [
    {
     "data": {
      "text/plain": [
       "(array([1, 1], dtype=int64), array([0, 1], dtype=int64))"
      ]
     },
     "execution_count": 32,
     "metadata": {},
     "output_type": "execute_result"
    }
   ],
   "source": [
    "s"
   ]
  },
  {
   "cell_type": "markdown",
   "id": "2fd5cbae",
   "metadata": {},
   "source": [
    "**EXERCISE 11 - Generation of given count of equally spaced numbers within a specified range\n",
    "Output a sequence of equally gapped 5 numbers in the range 0 to 100 (both inclusive)**"
   ]
  },
  {
   "cell_type": "code",
   "execution_count": 33,
   "id": "e2837c14",
   "metadata": {},
   "outputs": [],
   "source": [
    "t=np.linspace(0,100,5)"
   ]
  },
  {
   "cell_type": "code",
   "execution_count": 34,
   "id": "6b4eb526",
   "metadata": {},
   "outputs": [
    {
     "data": {
      "text/plain": [
       "array([  0.,  25.,  50.,  75., 100.])"
      ]
     },
     "execution_count": 34,
     "metadata": {},
     "output_type": "execute_result"
    }
   ],
   "source": [
    "t"
   ]
  },
  {
   "cell_type": "markdown",
   "id": "d1036981",
   "metadata": {},
   "source": [
    "**EXERCISE 12 - Matrix Generation with one particular value\n",
    "Output a matrix (numpy array) of dimension 2-by-3 with each and every value equal to 5**"
   ]
  },
  {
   "cell_type": "code",
   "execution_count": 35,
   "id": "485a0f21",
   "metadata": {},
   "outputs": [],
   "source": [
    "q=np.full((2,3),5)"
   ]
  },
  {
   "cell_type": "code",
   "execution_count": 36,
   "id": "7dd57e8c",
   "metadata": {},
   "outputs": [
    {
     "data": {
      "text/plain": [
       "array([[5, 5, 5],\n",
       "       [5, 5, 5]])"
      ]
     },
     "execution_count": 36,
     "metadata": {},
     "output_type": "execute_result"
    }
   ],
   "source": [
    "q"
   ]
  },
  {
   "cell_type": "markdown",
   "id": "47c053f3",
   "metadata": {},
   "source": [
    "**EXERCISE 13 - Array Generation by repeatition of a small array across each dimension\n",
    "Output an array by repeating a smaller array of 2 dimensions, 10 times**"
   ]
  },
  {
   "cell_type": "code",
   "execution_count": 37,
   "id": "a9ff0c06",
   "metadata": {},
   "outputs": [
    {
     "data": {
      "text/plain": [
       "array([[1, 2, 3],\n",
       "       [4, 5, 6]])"
      ]
     },
     "execution_count": 37,
     "metadata": {},
     "output_type": "execute_result"
    }
   ],
   "source": [
    "arr1"
   ]
  },
  {
   "cell_type": "code",
   "execution_count": 38,
   "id": "af86c760",
   "metadata": {},
   "outputs": [],
   "source": [
    "q=np.tile(arr1,10)"
   ]
  },
  {
   "cell_type": "code",
   "execution_count": 39,
   "id": "0f77acb5",
   "metadata": {},
   "outputs": [
    {
     "data": {
      "text/plain": [
       "array([[1, 2, 3, 1, 2, 3, 1, 2, 3, 1, 2, 3, 1, 2, 3, 1, 2, 3, 1, 2, 3, 1,\n",
       "        2, 3, 1, 2, 3, 1, 2, 3],\n",
       "       [4, 5, 6, 4, 5, 6, 4, 5, 6, 4, 5, 6, 4, 5, 6, 4, 5, 6, 4, 5, 6, 4,\n",
       "        5, 6, 4, 5, 6, 4, 5, 6]])"
      ]
     },
     "execution_count": 39,
     "metadata": {},
     "output_type": "execute_result"
    }
   ],
   "source": [
    "q"
   ]
  },
  {
   "cell_type": "markdown",
   "id": "6d06566c",
   "metadata": {},
   "source": [
    "**EXERCISE 14 - Array Generation of random integers within a specified range\n",
    "Output a 5-by-5 array of random integers between 0 (inclusive) and 10 (exclusive)**"
   ]
  },
  {
   "cell_type": "code",
   "execution_count": 40,
   "id": "0e13ab95",
   "metadata": {},
   "outputs": [],
   "source": [
    "np.random.seed(123) #seed setting"
   ]
  },
  {
   "cell_type": "code",
   "execution_count": 41,
   "id": "b5a9d8e6",
   "metadata": {},
   "outputs": [],
   "source": [
    "u=np.random.randint(0,10,size=(5,5))"
   ]
  },
  {
   "cell_type": "code",
   "execution_count": 42,
   "id": "b5676b1a",
   "metadata": {},
   "outputs": [
    {
     "data": {
      "text/plain": [
       "array([[2, 2, 6, 1, 3],\n",
       "       [9, 6, 1, 0, 1],\n",
       "       [9, 0, 0, 9, 3],\n",
       "       [4, 0, 0, 4, 1],\n",
       "       [7, 3, 2, 4, 7]])"
      ]
     },
     "execution_count": 42,
     "metadata": {},
     "output_type": "execute_result"
    }
   ],
   "source": [
    "u"
   ]
  },
  {
   "cell_type": "markdown",
   "id": "95727e82",
   "metadata": {},
   "source": [
    "**EXERCISE 15 - Array Generation of random numbers following normal distribution\n",
    "Output a 3-by-3 array of random numbers following normal distribution**"
   ]
  },
  {
   "cell_type": "code",
   "execution_count": 43,
   "id": "74c4a481",
   "metadata": {},
   "outputs": [],
   "source": [
    "np.random.seed(123) #seed setting"
   ]
  },
  {
   "cell_type": "code",
   "execution_count": 44,
   "id": "957dfd4b",
   "metadata": {},
   "outputs": [],
   "source": [
    "r=np.random.normal(size=(3,3))"
   ]
  },
  {
   "cell_type": "code",
   "execution_count": 45,
   "id": "63b630a5",
   "metadata": {},
   "outputs": [
    {
     "data": {
      "text/plain": [
       "array([[-1.0856306 ,  0.99734545,  0.2829785 ],\n",
       "       [-1.50629471, -0.57860025,  1.65143654],\n",
       "       [-2.42667924, -0.42891263,  1.26593626]])"
      ]
     },
     "execution_count": 45,
     "metadata": {},
     "output_type": "execute_result"
    }
   ],
   "source": [
    "r"
   ]
  },
  {
   "cell_type": "markdown",
   "id": "9c0dff10",
   "metadata": {},
   "source": [
    "**EXERCISE 16 - Matrix Multiplication\n",
    "Given 2 numpy arrays as matrices, output the result of multiplying the 2 matrices (as a numpy array)**"
   ]
  },
  {
   "cell_type": "code",
   "execution_count": 46,
   "id": "f72058c5",
   "metadata": {},
   "outputs": [
    {
     "data": {
      "text/plain": [
       "array([[1, 2, 3],\n",
       "       [4, 5, 6]])"
      ]
     },
     "execution_count": 46,
     "metadata": {},
     "output_type": "execute_result"
    }
   ],
   "source": [
    "arr1"
   ]
  },
  {
   "cell_type": "code",
   "execution_count": 47,
   "id": "aed45522",
   "metadata": {},
   "outputs": [
    {
     "data": {
      "text/plain": [
       "array([[2, 3, 1],\n",
       "       [4, 5, 2]])"
      ]
     },
     "execution_count": 47,
     "metadata": {},
     "output_type": "execute_result"
    }
   ],
   "source": [
    "arr2"
   ]
  },
  {
   "cell_type": "code",
   "execution_count": 48,
   "id": "617575a4",
   "metadata": {},
   "outputs": [],
   "source": [
    "multiplication=arr1 * arr2"
   ]
  },
  {
   "cell_type": "code",
   "execution_count": 49,
   "id": "55f48880",
   "metadata": {},
   "outputs": [
    {
     "data": {
      "text/plain": [
       "array([[ 2,  6,  3],\n",
       "       [16, 25, 12]])"
      ]
     },
     "execution_count": 49,
     "metadata": {},
     "output_type": "execute_result"
    }
   ],
   "source": [
    "multiplication"
   ]
  },
  {
   "cell_type": "markdown",
   "id": "120d6fd2",
   "metadata": {},
   "source": [
    "**EXERCISE 17 - Matrix Transpose\n",
    "Output the transpose of a matrix (as numpy array)**"
   ]
  },
  {
   "cell_type": "code",
   "execution_count": 50,
   "id": "de8c5801",
   "metadata": {},
   "outputs": [
    {
     "data": {
      "text/plain": [
       "array([[1, 2, 3],\n",
       "       [4, 5, 6]])"
      ]
     },
     "execution_count": 50,
     "metadata": {},
     "output_type": "execute_result"
    }
   ],
   "source": [
    "arr1"
   ]
  },
  {
   "cell_type": "code",
   "execution_count": 51,
   "id": "a17105d0",
   "metadata": {},
   "outputs": [
    {
     "data": {
      "text/plain": [
       "array([[1, 4],\n",
       "       [2, 5],\n",
       "       [3, 6]])"
      ]
     },
     "execution_count": 51,
     "metadata": {},
     "output_type": "execute_result"
    }
   ],
   "source": [
    "arr1.T"
   ]
  },
  {
   "cell_type": "markdown",
   "id": "cd197478",
   "metadata": {},
   "source": [
    "**EXERCISE 18 - Sine of an Angle (in radians)\n",
    "Calculate the sine of an array of angles (in radians) using NumPy**"
   ]
  },
  {
   "cell_type": "code",
   "execution_count": 52,
   "id": "c8f3b7a5",
   "metadata": {},
   "outputs": [],
   "source": [
    "angles=np.array([2.34,5.23,6.23])"
   ]
  },
  {
   "cell_type": "code",
   "execution_count": 53,
   "id": "ebdb8c78",
   "metadata": {},
   "outputs": [],
   "source": [
    "sine_of_an_Angle=np.sin(angles)"
   ]
  },
  {
   "cell_type": "code",
   "execution_count": 54,
   "id": "8882ffe6",
   "metadata": {},
   "outputs": [
    {
     "data": {
      "text/plain": [
       "array([ 0.71846479, -0.86900374, -0.05316024])"
      ]
     },
     "execution_count": 54,
     "metadata": {},
     "output_type": "execute_result"
    }
   ],
   "source": [
    "sine_of_an_Angle"
   ]
  },
  {
   "cell_type": "markdown",
   "id": "11bc0dc1",
   "metadata": {},
   "source": [
    "**EXERCISE 19 - Cosine Similarity\n",
    "Calculate the cosine similarity of 2 vectors (as numpy arrays)**"
   ]
  },
  {
   "cell_type": "code",
   "execution_count": 55,
   "id": "3923a4e4",
   "metadata": {},
   "outputs": [
    {
     "data": {
      "text/plain": [
       "array([2.34, 5.23, 6.23])"
      ]
     },
     "execution_count": 55,
     "metadata": {},
     "output_type": "execute_result"
    }
   ],
   "source": [
    "angles"
   ]
  },
  {
   "cell_type": "code",
   "execution_count": 56,
   "id": "ec05d2aa",
   "metadata": {},
   "outputs": [],
   "source": [
    "cose_of_an_Angle=np.cos(angles)"
   ]
  },
  {
   "cell_type": "code",
   "execution_count": 57,
   "id": "5c29f976",
   "metadata": {},
   "outputs": [
    {
     "data": {
      "text/plain": [
       "array([-0.69556333,  0.49480552,  0.99858599])"
      ]
     },
     "execution_count": 57,
     "metadata": {},
     "output_type": "execute_result"
    }
   ],
   "source": [
    "cose_of_an_Angle"
   ]
  },
  {
   "cell_type": "markdown",
   "id": "e89e05d7",
   "metadata": {},
   "source": [
    "**EXERCISE 20 - Generating the array element indexes such that the array elements appear in ascending order\n",
    "Output the array element indexes such that the array elements appear in the ascending order**"
   ]
  },
  {
   "cell_type": "code",
   "execution_count": 58,
   "id": "2a3d580f",
   "metadata": {},
   "outputs": [],
   "source": [
    "x=np.array([1,2,3,4,5,7,6,86,9])"
   ]
  },
  {
   "cell_type": "code",
   "execution_count": 59,
   "id": "12c2e05c",
   "metadata": {},
   "outputs": [
    {
     "data": {
      "text/plain": [
       "array([0, 1, 2, 3, 4, 6, 5, 8, 7], dtype=int64)"
      ]
     },
     "execution_count": 59,
     "metadata": {},
     "output_type": "execute_result"
    }
   ],
   "source": [
    "x.argsort()"
   ]
  },
  {
   "cell_type": "code",
   "execution_count": null,
   "id": "201a4c60",
   "metadata": {},
   "outputs": [],
   "source": []
  }
 ],
 "metadata": {
  "kernelspec": {
   "display_name": "Python 3 (ipykernel)",
   "language": "python",
   "name": "python3"
  },
  "language_info": {
   "codemirror_mode": {
    "name": "ipython",
    "version": 3
   },
   "file_extension": ".py",
   "mimetype": "text/x-python",
   "name": "python",
   "nbconvert_exporter": "python",
   "pygments_lexer": "ipython3",
   "version": "3.9.12"
  }
 },
 "nbformat": 4,
 "nbformat_minor": 5
}
